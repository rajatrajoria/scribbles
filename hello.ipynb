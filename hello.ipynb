{
 "cells": [
  {
   "cell_type": "code",
   "execution_count": 3,
   "metadata": {},
   "outputs": [],
   "source": [
    "import cv2\n",
    "import numpy as np\n",
    "\n",
    "# Load the image\n",
    "image = cv2.imread('./test4.jpg')\n",
    "\n",
    "# Convert the image to grayscale\n",
    "gray = cv2.cvtColor(image, cv2.COLOR_BGR2GRAY)\n",
    "\n",
    "# Apply adaptive thresholding to obtain a binary image\n",
    "threshold = cv2.adaptiveThreshold(gray, 255, cv2.ADAPTIVE_THRESH_MEAN_C, cv2.THRESH_BINARY_INV, 11, 2)\n",
    "\n",
    "# Find contours in the binary image\n",
    "contours, _ = cv2.findContours(threshold, cv2.RETR_EXTERNAL, cv2.CHAIN_APPROX_SIMPLE)\n",
    "\n",
    "# Iterate through the contours and expand the bounding rectangle\n",
    "expanded_contours = []\n",
    "for contour in contours:\n",
    "    # Get the bounding rectangle coordinates\n",
    "    x, y, w, h = cv2.boundingRect(contour)\n",
    "\n",
    "    # Set the expansion amount\n",
    "    expansion_amount = 1\n",
    "\n",
    "    # Expand the bounding rectangle\n",
    "    x_expanded = max(0, x - expansion_amount)\n",
    "    y_expanded = max(0, y - expansion_amount)\n",
    "    w_expanded = min(image.shape[1] - 1, x + w + expansion_amount) - x_expanded\n",
    "    h_expanded = min(image.shape[0] - 1, y + h + expansion_amount) - y_expanded\n",
    "\n",
    "    # Create a new contour from the expanded rectangle\n",
    "    expanded_contour = np.array([[x_expanded, y_expanded],\n",
    "                                 [x_expanded, y_expanded + h_expanded],\n",
    "                                 [x_expanded + w_expanded, y_expanded + h_expanded],\n",
    "                                 [x_expanded + w_expanded, y_expanded]])\n",
    "\n",
    "    expanded_contours.append(expanded_contour)\n",
    "\n",
    "# Create a copy of the image to draw the expanded contours\n",
    "expanded_image = image.copy()\n",
    "\n",
    "# Draw the expanded contours on the image\n",
    "cv2.drawContours(expanded_image, expanded_contours, -1, (0, 255, 0), 2)\n",
    "\n",
    "# Display the image with the expanded contours\n",
    "cv2.imshow('Expanded Contours', expanded_image)\n",
    "cv2.waitKey(0)\n",
    "cv2.destroyAllWindows()\n"
   ]
  }
 ],
 "metadata": {
  "kernelspec": {
   "display_name": "Python 3",
   "language": "python",
   "name": "python3"
  },
  "language_info": {
   "codemirror_mode": {
    "name": "ipython",
    "version": 3
   },
   "file_extension": ".py",
   "mimetype": "text/x-python",
   "name": "python",
   "nbconvert_exporter": "python",
   "pygments_lexer": "ipython3",
   "version": "3.10.1"
  },
  "orig_nbformat": 4
 },
 "nbformat": 4,
 "nbformat_minor": 2
}
