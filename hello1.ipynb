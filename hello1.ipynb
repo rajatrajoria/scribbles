{
 "cells": [
  {
   "cell_type": "code",
   "execution_count": 10,
   "metadata": {},
   "outputs": [],
   "source": [
    "import cv2\n",
    "import numpy as np\n",
    "\n",
    "def is_contour_darker(contour, image, dilation_size=5):\n",
    "    # Create a mask for the contour\n",
    "    contour_mask = np.zeros_like(image, dtype=np.uint8)\n",
    "    cv2.drawContours(contour_mask, [contour], -1, (255, 255, 255), cv2.FILLED)\n",
    "\n",
    "    # Convert the image to grayscale\n",
    "    gray = cv2.cvtColor(image, cv2.COLOR_BGR2GRAY)\n",
    "\n",
    "    # Dilate the contour mask to include neighboring pixels\n",
    "    kernel = cv2.getStructuringElement(cv2.MORPH_RECT, (dilation_size, dilation_size))\n",
    "    dilated_mask = cv2.dilate(contour_mask[:, :, 0], kernel, iterations=1)\n",
    "\n",
    "    # Calculate the average intensity value within the contour\n",
    "    contour_avg_intensity = np.mean(gray[np.where(dilated_mask == 255)])\n",
    "\n",
    "    # Calculate the average intensity value of the surrounding area\n",
    "    surrounding_avg_intensity = np.mean(gray[np.where(dilated_mask == 0)])\n",
    "\n",
    "    # Compare the average intensity values\n",
    "    if contour_avg_intensity < surrounding_avg_intensity:\n",
    "        return True\n",
    "    else:\n",
    "        return False\n",
    "\n",
    "\n",
    "# Example usage:\n",
    "# Load the image\n",
    "image = cv2.imread('./test4.jpg')\n",
    "\n",
    "# Convert the image to grayscale\n",
    "gray = cv2.cvtColor(image, cv2.COLOR_BGR2GRAY)\n",
    "\n",
    "# Apply thresholding to obtain a binary image\n",
    "_, threshold = cv2.threshold(gray, 128, 255, cv2.THRESH_BINARY_INV)\n",
    "\n",
    "# Find contours in the binary image\n",
    "contours, _ = cv2.findContours(threshold, cv2.RETR_EXTERNAL, cv2.CHAIN_APPROX_SIMPLE)\n",
    "\n",
    "# Iterate through the contours\n",
    "for contour in contours:\n",
    "    # Detect if the contour is darker than the surrounding area\n",
    "    is_darker = is_contour_darker(contour, image, dilation_size=10)\n",
    "\n",
    "    # Draw a bounding rectangle around the contour\n",
    "    x, y, w, h = cv2.boundingRect(contour)\n",
    "    color = (0, 255, 0) if is_darker else (0, 0, 255)\n",
    "    cv2.rectangle(image, (x, y), (x + w, y + h), color, 2)\n",
    "\n",
    "# Display the image with the contours and their detection results\n",
    "cv2.imshow('Contour Detection', image)\n",
    "cv2.waitKey(0)\n",
    "cv2.destroyAllWindows()\n"
   ]
  }
 ],
 "metadata": {
  "kernelspec": {
   "display_name": "Python 3",
   "language": "python",
   "name": "python3"
  },
  "language_info": {
   "codemirror_mode": {
    "name": "ipython",
    "version": 3
   },
   "file_extension": ".py",
   "mimetype": "text/x-python",
   "name": "python",
   "nbconvert_exporter": "python",
   "pygments_lexer": "ipython3",
   "version": "3.10.1"
  },
  "orig_nbformat": 4
 },
 "nbformat": 4,
 "nbformat_minor": 2
}
